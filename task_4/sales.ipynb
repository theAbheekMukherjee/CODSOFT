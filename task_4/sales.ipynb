{
  "cells": [
    {
      "cell_type": "markdown",
      "metadata": {
        "id": "8UlavvGCp_Zt"
      },
      "source": [
        "Sales Prediction ( simple linear regression )"
      ]
    },
    {
      "cell_type": "code",
      "execution_count": 58,
      "metadata": {
        "execution": {
          "iopub.execute_input": "2023-08-31T08:02:52.629617Z",
          "iopub.status.busy": "2023-08-31T08:02:52.628355Z",
          "iopub.status.idle": "2023-08-31T08:02:54.060038Z",
          "shell.execute_reply": "2023-08-31T08:02:54.058642Z",
          "shell.execute_reply.started": "2023-08-31T08:02:52.629479Z"
        },
        "id": "xBKIF8DAp_Z1",
        "trusted": true
      },
      "outputs": [],
      "source": [
        "#Import necessary libraries for data analysis and visualization.\n",
        "import numpy as np\n",
        "import pandas as pd\n",
        "import matplotlib.pyplot as plt\n",
        "import seaborn as sns"
      ]
    },
    {
      "cell_type": "code",
      "execution_count": 59,
      "metadata": {
        "execution": {
          "iopub.execute_input": "2023-08-31T08:02:54.063463Z",
          "iopub.status.busy": "2023-08-31T08:02:54.062888Z",
          "iopub.status.idle": "2023-08-31T08:02:54.079645Z",
          "shell.execute_reply": "2023-08-31T08:02:54.078421Z",
          "shell.execute_reply.started": "2023-08-31T08:02:54.063419Z"
        },
        "id": "n1dTOfXNp_Z4",
        "trusted": true
      },
      "outputs": [],
      "source": [
        "#Load data from a CSV file named \"data.csv\".\n",
        "data = pd.read_csv(\"data.csv\")"
      ]
    },
    {
      "cell_type": "code",
      "execution_count": 60,
      "metadata": {
        "colab": {
          "base_uri": "https://localhost:8080/",
          "height": 423
        },
        "execution": {
          "iopub.execute_input": "2023-08-31T08:02:54.085582Z",
          "iopub.status.busy": "2023-08-31T08:02:54.085194Z",
          "iopub.status.idle": "2023-08-31T08:02:54.121623Z",
          "shell.execute_reply": "2023-08-31T08:02:54.120414Z",
          "shell.execute_reply.started": "2023-08-31T08:02:54.085548Z"
        },
        "id": "WaAHDVDyp_Z5",
        "outputId": "415e1c85-37d5-4251-940c-0895735ba8a7",
        "trusted": true
      },
      "outputs": [
        {
          "data": {
            "text/html": [
              "<div>\n",
              "<style scoped>\n",
              "    .dataframe tbody tr th:only-of-type {\n",
              "        vertical-align: middle;\n",
              "    }\n",
              "\n",
              "    .dataframe tbody tr th {\n",
              "        vertical-align: top;\n",
              "    }\n",
              "\n",
              "    .dataframe thead th {\n",
              "        text-align: right;\n",
              "    }\n",
              "</style>\n",
              "<table border=\"1\" class=\"dataframe\">\n",
              "  <thead>\n",
              "    <tr style=\"text-align: right;\">\n",
              "      <th></th>\n",
              "      <th>TV</th>\n",
              "      <th>Radio</th>\n",
              "      <th>Newspaper</th>\n",
              "      <th>Sales</th>\n",
              "    </tr>\n",
              "  </thead>\n",
              "  <tbody>\n",
              "    <tr>\n",
              "      <th>0</th>\n",
              "      <td>230.1</td>\n",
              "      <td>37.8</td>\n",
              "      <td>69.2</td>\n",
              "      <td>22.1</td>\n",
              "    </tr>\n",
              "    <tr>\n",
              "      <th>1</th>\n",
              "      <td>44.5</td>\n",
              "      <td>39.3</td>\n",
              "      <td>45.1</td>\n",
              "      <td>10.4</td>\n",
              "    </tr>\n",
              "    <tr>\n",
              "      <th>2</th>\n",
              "      <td>17.2</td>\n",
              "      <td>45.9</td>\n",
              "      <td>69.3</td>\n",
              "      <td>12.0</td>\n",
              "    </tr>\n",
              "    <tr>\n",
              "      <th>3</th>\n",
              "      <td>151.5</td>\n",
              "      <td>41.3</td>\n",
              "      <td>58.5</td>\n",
              "      <td>16.5</td>\n",
              "    </tr>\n",
              "    <tr>\n",
              "      <th>4</th>\n",
              "      <td>180.8</td>\n",
              "      <td>10.8</td>\n",
              "      <td>58.4</td>\n",
              "      <td>17.9</td>\n",
              "    </tr>\n",
              "    <tr>\n",
              "      <th>...</th>\n",
              "      <td>...</td>\n",
              "      <td>...</td>\n",
              "      <td>...</td>\n",
              "      <td>...</td>\n",
              "    </tr>\n",
              "    <tr>\n",
              "      <th>195</th>\n",
              "      <td>38.2</td>\n",
              "      <td>3.7</td>\n",
              "      <td>13.8</td>\n",
              "      <td>7.6</td>\n",
              "    </tr>\n",
              "    <tr>\n",
              "      <th>196</th>\n",
              "      <td>94.2</td>\n",
              "      <td>4.9</td>\n",
              "      <td>8.1</td>\n",
              "      <td>14.0</td>\n",
              "    </tr>\n",
              "    <tr>\n",
              "      <th>197</th>\n",
              "      <td>177.0</td>\n",
              "      <td>9.3</td>\n",
              "      <td>6.4</td>\n",
              "      <td>14.8</td>\n",
              "    </tr>\n",
              "    <tr>\n",
              "      <th>198</th>\n",
              "      <td>283.6</td>\n",
              "      <td>42.0</td>\n",
              "      <td>66.2</td>\n",
              "      <td>25.5</td>\n",
              "    </tr>\n",
              "    <tr>\n",
              "      <th>199</th>\n",
              "      <td>232.1</td>\n",
              "      <td>8.6</td>\n",
              "      <td>8.7</td>\n",
              "      <td>18.4</td>\n",
              "    </tr>\n",
              "  </tbody>\n",
              "</table>\n",
              "<p>200 rows × 4 columns</p>\n",
              "</div>"
            ],
            "text/plain": [
              "        TV  Radio  Newspaper  Sales\n",
              "0    230.1   37.8       69.2   22.1\n",
              "1     44.5   39.3       45.1   10.4\n",
              "2     17.2   45.9       69.3   12.0\n",
              "3    151.5   41.3       58.5   16.5\n",
              "4    180.8   10.8       58.4   17.9\n",
              "..     ...    ...        ...    ...\n",
              "195   38.2    3.7       13.8    7.6\n",
              "196   94.2    4.9        8.1   14.0\n",
              "197  177.0    9.3        6.4   14.8\n",
              "198  283.6   42.0       66.2   25.5\n",
              "199  232.1    8.6        8.7   18.4\n",
              "\n",
              "[200 rows x 4 columns]"
            ]
          },
          "execution_count": 60,
          "metadata": {},
          "output_type": "execute_result"
        }
      ],
      "source": [
        "data"
      ]
    },
    {
      "cell_type": "code",
      "execution_count": 61,
      "metadata": {
        "colab": {
          "base_uri": "https://localhost:8080/"
        },
        "execution": {
          "iopub.execute_input": "2023-08-31T08:02:54.126148Z",
          "iopub.status.busy": "2023-08-31T08:02:54.125352Z",
          "iopub.status.idle": "2023-08-31T08:02:54.133189Z",
          "shell.execute_reply": "2023-08-31T08:02:54.132121Z",
          "shell.execute_reply.started": "2023-08-31T08:02:54.126103Z"
        },
        "id": "FvFofcTRp_Z6",
        "outputId": "a6db8fd1-faca-4c61-f46d-8dc64e5308c5",
        "trusted": true
      },
      "outputs": [
        {
          "data": {
            "text/plain": [
              "pandas.core.frame.DataFrame"
            ]
          },
          "execution_count": 61,
          "metadata": {},
          "output_type": "execute_result"
        }
      ],
      "source": [
        "type(data)"
      ]
    },
    {
      "cell_type": "code",
      "execution_count": 62,
      "metadata": {
        "colab": {
          "base_uri": "https://localhost:8080/"
        },
        "execution": {
          "iopub.execute_input": "2023-08-31T08:02:54.135589Z",
          "iopub.status.busy": "2023-08-31T08:02:54.134840Z",
          "iopub.status.idle": "2023-08-31T08:02:54.174047Z",
          "shell.execute_reply": "2023-08-31T08:02:54.172941Z",
          "shell.execute_reply.started": "2023-08-31T08:02:54.135548Z"
        },
        "id": "DnKOjHwAp_Z7",
        "outputId": "30d0cb96-818b-4364-e944-84f99cffc25a",
        "trusted": true
      },
      "outputs": [
        {
          "name": "stdout",
          "output_type": "stream",
          "text": [
            "<class 'pandas.core.frame.DataFrame'>\n",
            "RangeIndex: 200 entries, 0 to 199\n",
            "Data columns (total 4 columns):\n",
            " #   Column     Non-Null Count  Dtype  \n",
            "---  ------     --------------  -----  \n",
            " 0   TV         200 non-null    float64\n",
            " 1   Radio      200 non-null    float64\n",
            " 2   Newspaper  200 non-null    float64\n",
            " 3   Sales      200 non-null    float64\n",
            "dtypes: float64(4)\n",
            "memory usage: 6.4 KB\n"
          ]
        }
      ],
      "source": [
        "data.info()"
      ]
    },
    {
      "cell_type": "code",
      "execution_count": 63,
      "metadata": {
        "colab": {
          "base_uri": "https://localhost:8080/"
        },
        "execution": {
          "iopub.execute_input": "2023-08-31T08:02:54.176938Z",
          "iopub.status.busy": "2023-08-31T08:02:54.176056Z",
          "iopub.status.idle": "2023-08-31T08:02:54.191959Z",
          "shell.execute_reply": "2023-08-31T08:02:54.190855Z",
          "shell.execute_reply.started": "2023-08-31T08:02:54.176894Z"
        },
        "id": "1wXrjcZLp_Z7",
        "outputId": "5eb5192f-1247-466d-f06e-845bfbffbcda",
        "trusted": true
      },
      "outputs": [
        {
          "data": {
            "text/plain": [
              "<bound method NDFrame.describe of         TV  Radio  Newspaper  Sales\n",
              "0    230.1   37.8       69.2   22.1\n",
              "1     44.5   39.3       45.1   10.4\n",
              "2     17.2   45.9       69.3   12.0\n",
              "3    151.5   41.3       58.5   16.5\n",
              "4    180.8   10.8       58.4   17.9\n",
              "..     ...    ...        ...    ...\n",
              "195   38.2    3.7       13.8    7.6\n",
              "196   94.2    4.9        8.1   14.0\n",
              "197  177.0    9.3        6.4   14.8\n",
              "198  283.6   42.0       66.2   25.5\n",
              "199  232.1    8.6        8.7   18.4\n",
              "\n",
              "[200 rows x 4 columns]>"
            ]
          },
          "execution_count": 63,
          "metadata": {},
          "output_type": "execute_result"
        }
      ],
      "source": [
        "data.describe"
      ]
    },
    {
      "cell_type": "code",
      "execution_count": 64,
      "metadata": {
        "colab": {
          "base_uri": "https://localhost:8080/"
        },
        "execution": {
          "iopub.execute_input": "2023-08-31T08:02:54.194638Z",
          "iopub.status.busy": "2023-08-31T08:02:54.193779Z",
          "iopub.status.idle": "2023-08-31T08:02:54.214629Z",
          "shell.execute_reply": "2023-08-31T08:02:54.213178Z",
          "shell.execute_reply.started": "2023-08-31T08:02:54.194594Z"
        },
        "id": "kyyxXGVAp_Z8",
        "outputId": "97f2dc42-8c45-4788-aed6-3ea9bde1608c",
        "trusted": true
      },
      "outputs": [
        {
          "data": {
            "text/plain": [
              "TV           0\n",
              "Radio        0\n",
              "Newspaper    0\n",
              "Sales        0\n",
              "dtype: int64"
            ]
          },
          "execution_count": 64,
          "metadata": {},
          "output_type": "execute_result"
        }
      ],
      "source": [
        "data.isnull().sum()"
      ]
    },
    {
      "cell_type": "code",
      "execution_count": 65,
      "metadata": {
        "colab": {
          "base_uri": "https://localhost:8080/",
          "height": 448
        },
        "execution": {
          "iopub.execute_input": "2023-08-31T08:02:54.218141Z",
          "iopub.status.busy": "2023-08-31T08:02:54.217321Z",
          "iopub.status.idle": "2023-08-31T08:02:54.472228Z",
          "shell.execute_reply": "2023-08-31T08:02:54.470902Z",
          "shell.execute_reply.started": "2023-08-31T08:02:54.218085Z"
        },
        "id": "gvaRokDQp_Z9",
        "outputId": "1719b31f-2adc-4d94-86fb-1b26d9b8138f",
        "trusted": true
      },
      "outputs": [
        {
          "data": {
            "text/plain": [
              "<Axes: >"
            ]
          },
          "execution_count": 65,
          "metadata": {},
          "output_type": "execute_result"
        },
        {
          "data": {
            "image/png": "[encoded data removed]",
            "text/plain": [
              "<Figure size 640x480 with 1 Axes>"
            ]
          },
          "metadata": {},
          "output_type": "display_data"
        }
      ],
      "source": [
        "# outlier analysis\n",
        "sns.boxplot(data['TV'])"
      ]
    },
    {
      "cell_type": "code",
      "execution_count": 66,
      "metadata": {
        "colab": {
          "base_uri": "https://localhost:8080/",
          "height": 448
        },
        "execution": {
          "iopub.execute_input": "2023-08-31T08:02:54.474116Z",
          "iopub.status.busy": "2023-08-31T08:02:54.473697Z",
          "iopub.status.idle": "2023-08-31T08:02:54.675268Z",
          "shell.execute_reply": "2023-08-31T08:02:54.673810Z",
          "shell.execute_reply.started": "2023-08-31T08:02:54.474079Z"
        },
        "id": "5_o8MbV8p_Z-",
        "outputId": "a8bb150e-29ab-4a7f-d2b7-b22d50ce3d32",
        "trusted": true
      },
      "outputs": [
        {
          "data": {
            "text/plain": [
              "<Axes: >"
            ]
          },
          "execution_count": 66,
          "metadata": {},
          "output_type": "execute_result"
        },
        {
          "data": {
            "image/png": "[encoded data removed]",
            "text/plain": [
              "<Figure size 640x480 with 1 Axes>"
            ]
          },
          "metadata": {},
          "output_type": "display_data"
        }
      ],
      "source": [
        "#Create a box plot for the \"Radio\" column in the dataset.\n",
        "sns.boxplot(data['Radio'])"
      ]
    },
    {
      "cell_type": "code",
      "execution_count": 67,
      "metadata": {
        "colab": {
          "base_uri": "https://localhost:8080/",
          "height": 448
        },
        "execution": {
          "iopub.execute_input": "2023-08-31T08:02:54.682396Z",
          "iopub.status.busy": "2023-08-31T08:02:54.677127Z",
          "iopub.status.idle": "2023-08-31T08:02:54.885327Z",
          "shell.execute_reply": "2023-08-31T08:02:54.884176Z",
          "shell.execute_reply.started": "2023-08-31T08:02:54.682328Z"
        },
        "id": "oW1S1mxip_Z-",
        "outputId": "bf69a135-0c20-40fd-c1a3-65f6ddfa71fb",
        "trusted": true
      },
      "outputs": [
        {
          "data": {
            "text/plain": [
              "<Axes: >"
            ]
          },
          "execution_count": 67,
          "metadata": {},
          "output_type": "execute_result"
        },
        {
          "data": {
            "image/png": "[encoded data removed]",
            "text/plain": [
              "<Figure size 640x480 with 1 Axes>"
            ]
          },
          "metadata": {},
          "output_type": "display_data"
        }
      ],
      "source": [
        "#Generate a box plot for the \"Newspaper\" column in the dataset.\n",
        "sns.boxplot(data['Newspaper'])"
      ]
    },
    {
      "cell_type": "code",
      "execution_count": 68,
      "metadata": {
        "colab": {
          "base_uri": "https://localhost:8080/",
          "height": 448
        },
        "execution": {
          "iopub.execute_input": "2023-08-31T08:02:54.888634Z",
          "iopub.status.busy": "2023-08-31T08:02:54.887005Z",
          "iopub.status.idle": "2023-08-31T08:02:55.089299Z",
          "shell.execute_reply": "2023-08-31T08:02:55.088056Z",
          "shell.execute_reply.started": "2023-08-31T08:02:54.888546Z"
        },
        "id": "sOqe8BgNp_Z_",
        "outputId": "8dcde25f-3175-443f-bf37-71b7d2b3e34a",
        "trusted": true
      },
      "outputs": [
        {
          "data": {
            "text/plain": [
              "<Axes: >"
            ]
          },
          "execution_count": 68,
          "metadata": {},
          "output_type": "execute_result"
        },
        {
          "data": {
            "image/png": "[encoded data removed]",
            "text/plain": [
              "<Figure size 640x480 with 1 Axes>"
            ]
          },
          "metadata": {},
          "output_type": "display_data"
        }
      ],
      "source": [
        "#Create a box plot for the \"Sales\" column in the dataset.\n",
        "sns.boxplot(data['Sales'])"
      ]
    },
    {
      "cell_type": "code",
      "execution_count": 69,
      "metadata": {
        "colab": {
          "base_uri": "https://localhost:8080/",
          "height": 286
        },
        "execution": {
          "iopub.execute_input": "2023-08-31T08:02:55.092567Z",
          "iopub.status.busy": "2023-08-31T08:02:55.091158Z",
          "iopub.status.idle": "2023-08-31T08:02:55.840030Z",
          "shell.execute_reply": "2023-08-31T08:02:55.838972Z",
          "shell.execute_reply.started": "2023-08-31T08:02:55.092508Z"
        },
        "id": "yLI5R4uzp_Z_",
        "outputId": "1dbe3d67-81cc-4f1b-cbe3-8e62d1898848",
        "trusted": true
      },
      "outputs": [
        {
          "data": {
            "text/plain": [
              "<seaborn.axisgrid.PairGrid at 0x1ee171b1b10>"
            ]
          },
          "execution_count": 69,
          "metadata": {},
          "output_type": "execute_result"
        },
        {
          "data": {
            "image/png": "[encoded data removed]",
            "text/plain": [
              "<Figure size 750x250 with 3 Axes>"
            ]
          },
          "metadata": {},
          "output_type": "display_data"
        }
      ],
      "source": [
        "#Produce pair plot for \"TV\", \"Radio\", \"Newspaper\" vs. \"Sales\" using scatter plots.\n",
        "sns.pairplot(data,x_vars=['TV','Radio','Newspaper'],y_vars=['Sales'],kind='scatter')"
      ]
    },
    {
      "cell_type": "code",
      "execution_count": 70,
      "metadata": {
        "colab": {
          "base_uri": "https://localhost:8080/",
          "height": 453
        },
        "execution": {
          "iopub.execute_input": "2023-08-31T08:02:55.846555Z",
          "iopub.status.busy": "2023-08-31T08:02:55.845144Z",
          "iopub.status.idle": "2023-08-31T08:02:56.178806Z",
          "shell.execute_reply": "2023-08-31T08:02:56.177617Z",
          "shell.execute_reply.started": "2023-08-31T08:02:55.846502Z"
        },
        "id": "MEgmcNTZp_Z_",
        "outputId": "8e61202b-8804-4d1e-e7bb-87437a9ae469",
        "trusted": true
      },
      "outputs": [
        {
          "data": {
            "text/plain": [
              "<Axes: >"
            ]
          },
          "execution_count": 70,
          "metadata": {},
          "output_type": "execute_result"
        },
        {
          "data": {
            "image/png": "[encoded data removed]",
            "text/plain": [
              "<Figure size 640x480 with 2 Axes>"
            ]
          },
          "metadata": {},
          "output_type": "display_data"
        }
      ],
      "source": [
        "#Display a heatmap of correlation between dataset features with annotations.\n",
        "sns.heatmap(data.corr(),annot=True)"
      ]
    },
    {
      "cell_type": "markdown",
      "metadata": {
        "id": "aUkSQ-Fcp_aA"
      },
      "source": [
        "It can be observed that, attribute 'TV' has maximum correlation with sales"
      ]
    },
    {
      "cell_type": "code",
      "execution_count": 71,
      "metadata": {
        "execution": {
          "iopub.execute_input": "2023-08-31T08:02:56.181940Z",
          "iopub.status.busy": "2023-08-31T08:02:56.180385Z",
          "iopub.status.idle": "2023-08-31T08:02:56.188594Z",
          "shell.execute_reply": "2023-08-31T08:02:56.187125Z",
          "shell.execute_reply.started": "2023-08-31T08:02:56.181881Z"
        },
        "id": "Ob7NHptPp_aA",
        "trusted": true
      },
      "outputs": [],
      "source": [
        "#Reshape 'TV' and 'Sales' columns as input and output arrays.\n",
        "X = data['TV'].values.reshape(-1,1)\n",
        "y = data['Sales'].values.reshape(-1,1)"
      ]
    },
    {
      "cell_type": "code",
      "execution_count": 72,
      "metadata": {
        "execution": {
          "iopub.execute_input": "2023-08-31T08:02:56.191800Z",
          "iopub.status.busy": "2023-08-31T08:02:56.190647Z",
          "iopub.status.idle": "2023-08-31T08:02:56.462136Z",
          "shell.execute_reply": "2023-08-31T08:02:56.460751Z",
          "shell.execute_reply.started": "2023-08-31T08:02:56.191752Z"
        },
        "id": "4K8fSz1Sp_aA",
        "trusted": true
      },
      "outputs": [],
      "source": [
        "#Split data into training and testing sets using an 80-20 ratio.\n",
        "from sklearn.model_selection import train_test_split\n",
        "X_train,X_test,y_train,y_test = train_test_split(X,y,train_size=0.8,test_size=0.2)"
      ]
    },
    {
      "cell_type": "code",
      "execution_count": 73,
      "metadata": {
        "execution": {
          "iopub.execute_input": "2023-08-31T08:02:56.465015Z",
          "iopub.status.busy": "2023-08-31T08:02:56.464162Z",
          "iopub.status.idle": "2023-08-31T08:02:56.571607Z",
          "shell.execute_reply": "2023-08-31T08:02:56.569101Z",
          "shell.execute_reply.started": "2023-08-31T08:02:56.464958Z"
        },
        "id": "IP7RnrRQp_aA",
        "trusted": true
      },
      "outputs": [],
      "source": [
        "#Import LinearRegression model from scikit-learn.\n",
        "from sklearn.linear_model import LinearRegression"
      ]
    },
    {
      "cell_type": "code",
      "execution_count": 74,
      "metadata": {
        "execution": {
          "iopub.execute_input": "2023-08-31T08:02:56.574933Z",
          "iopub.status.busy": "2023-08-31T08:02:56.573816Z",
          "iopub.status.idle": "2023-08-31T08:02:56.582613Z",
          "shell.execute_reply": "2023-08-31T08:02:56.580940Z",
          "shell.execute_reply.started": "2023-08-31T08:02:56.574848Z"
        },
        "id": "gU9cGhn_p_aB",
        "trusted": true
      },
      "outputs": [],
      "source": [
        "#Create an instance of the LinearRegression model.\n",
        "regressor = LinearRegression()"
      ]
    },
    {
      "cell_type": "code",
      "execution_count": 75,
      "metadata": {
        "colab": {
          "base_uri": "https://localhost:8080/",
          "height": 74
        },
        "execution": {
          "iopub.execute_input": "2023-08-31T08:02:56.585512Z",
          "iopub.status.busy": "2023-08-31T08:02:56.584726Z",
          "iopub.status.idle": "2023-08-31T08:02:56.622581Z",
          "shell.execute_reply": "2023-08-31T08:02:56.620989Z",
          "shell.execute_reply.started": "2023-08-31T08:02:56.585457Z"
        },
        "id": "tzxHWxLtp_aB",
        "outputId": "f08d08dc-8ebe-4b62-d435-bd3b4d50e3d7",
        "trusted": true
      },
      "outputs": [
        {
          "data": {
            "text/html": [
              "<style>#sk-container-id-3 {color: black;background-color: white;}#sk-container-id-3 pre{padding: 0;}#sk-container-id-3 div.sk-toggleable {background-color: white;}#sk-container-id-3 label.sk-toggleable__label {cursor: pointer;display: block;width: 100%;margin-bottom: 0;padding: 0.3em;box-sizing: border-box;text-align: center;}#sk-container-id-3 label.sk-toggleable__label-arrow:before {content: \"▸\";float: left;margin-right: 0.25em;color: #696969;}#sk-container-id-3 label.sk-toggleable__label-arrow:hover:before {color: black;}#sk-container-id-3 div.sk-estimator:hover label.sk-toggleable__label-arrow:before {color: black;}#sk-container-id-3 div.sk-toggleable__content {max-height: 0;max-width: 0;overflow: hidden;text-align: left;background-color: #f0f8ff;}#sk-container-id-3 div.sk-toggleable__content pre {margin: 0.2em;color: black;border-radius: 0.25em;background-color: #f0f8ff;}#sk-container-id-3 input.sk-toggleable__control:checked~div.sk-toggleable__content {max-height: 200px;max-width: 100%;overflow: auto;}#sk-container-id-3 input.sk-toggleable__control:checked~label.sk-toggleable__label-arrow:before {content: \"▾\";}#sk-container-id-3 div.sk-estimator input.sk-toggleable__control:checked~label.sk-toggleable__label {background-color: #d4ebff;}#sk-container-id-3 div.sk-label input.sk-toggleable__control:checked~label.sk-toggleable__label {background-color: #d4ebff;}#sk-container-id-3 input.sk-hidden--visually {border: 0;clip: rect(1px 1px 1px 1px);clip: rect(1px, 1px, 1px, 1px);height: 1px;margin: -1px;overflow: hidden;padding: 0;position: absolute;width: 1px;}#sk-container-id-3 div.sk-estimator {font-family: monospace;background-color: #f0f8ff;border: 1px dotted black;border-radius: 0.25em;box-sizing: border-box;margin-bottom: 0.5em;}#sk-container-id-3 div.sk-estimator:hover {background-color: #d4ebff;}#sk-container-id-3 div.sk-parallel-item::after {content: \"\";width: 100%;border-bottom: 1px solid gray;flex-grow: 1;}#sk-container-id-3 div.sk-label:hover label.sk-toggleable__label {background-color: #d4ebff;}#sk-container-id-3 div.sk-serial::before {content: \"\";position: absolute;border-left: 1px solid gray;box-sizing: border-box;top: 0;bottom: 0;left: 50%;z-index: 0;}#sk-container-id-3 div.sk-serial {display: flex;flex-direction: column;align-items: center;background-color: white;padding-right: 0.2em;padding-left: 0.2em;position: relative;}#sk-container-id-3 div.sk-item {position: relative;z-index: 1;}#sk-container-id-3 div.sk-parallel {display: flex;align-items: stretch;justify-content: center;background-color: white;position: relative;}#sk-container-id-3 div.sk-item::before, #sk-container-id-3 div.sk-parallel-item::before {content: \"\";position: absolute;border-left: 1px solid gray;box-sizing: border-box;top: 0;bottom: 0;left: 50%;z-index: -1;}#sk-container-id-3 div.sk-parallel-item {display: flex;flex-direction: column;z-index: 1;position: relative;background-color: white;}#sk-container-id-3 div.sk-parallel-item:first-child::after {align-self: flex-end;width: 50%;}#sk-container-id-3 div.sk-parallel-item:last-child::after {align-self: flex-start;width: 50%;}#sk-container-id-3 div.sk-parallel-item:only-child::after {width: 0;}#sk-container-id-3 div.sk-dashed-wrapped {border: 1px dashed gray;margin: 0 0.4em 0.5em 0.4em;box-sizing: border-box;padding-bottom: 0.4em;background-color: white;}#sk-container-id-3 div.sk-label label {font-family: monospace;font-weight: bold;display: inline-block;line-height: 1.2em;}#sk-container-id-3 div.sk-label-container {text-align: center;}#sk-container-id-3 div.sk-container {/* jupyter's `normalize.less` sets `[hidden] { display: none; }` but bootstrap.min.css set `[hidden] { display: none !important; }` so we also need the `!important` here to be able to override the default hidden behavior on the sphinx rendered scikit-learn.org. See: https://github.com/scikit-learn/scikit-learn/issues/21755 */display: inline-block !important;position: relative;}#sk-container-id-3 div.sk-text-repr-fallback {display: none;}</style><div id=\"sk-container-id-3\" class=\"sk-top-container\"><div class=\"sk-text-repr-fallback\"><pre>LinearRegression()</pre><b>In a Jupyter environment, please rerun this cell to show the HTML representation or trust the notebook. <br />On GitHub, the HTML representation is unable to render, please try loading this page with nbviewer.org.</b></div><div class=\"sk-container\" hidden><div class=\"sk-item\"><div class=\"sk-estimator sk-toggleable\"><input class=\"sk-toggleable__control sk-hidden--visually\" id=\"sk-estimator-id-3\" type=\"checkbox\" checked><label for=\"sk-estimator-id-3\" class=\"sk-toggleable__label sk-toggleable__label-arrow\">LinearRegression</label><div class=\"sk-toggleable__content\"><pre>LinearRegression()</pre></div></div></div></div></div>"
            ],
            "text/plain": [
              "LinearRegression()"
            ]
          },
          "execution_count": 75,
          "metadata": {},
          "output_type": "execute_result"
        }
      ],
      "source": [
        "#Train the LinearRegression model on the training data.\n",
        "regressor.fit(X_train,y_train)"
      ]
    },
    {
      "cell_type": "code",
      "execution_count": 76,
      "metadata": {
        "colab": {
          "base_uri": "https://localhost:8080/"
        },
        "execution": {
          "iopub.execute_input": "2023-08-31T08:02:56.625705Z",
          "iopub.status.busy": "2023-08-31T08:02:56.624802Z",
          "iopub.status.idle": "2023-08-31T08:02:56.634462Z",
          "shell.execute_reply": "2023-08-31T08:02:56.632983Z",
          "shell.execute_reply.started": "2023-08-31T08:02:56.625648Z"
        },
        "id": "OHNX8-GHp_aC",
        "outputId": "6c50741c-01d1-4e7a-aa04-298ff9ea0275",
        "trusted": true
      },
      "outputs": [
        {
          "name": "stdout",
          "output_type": "stream",
          "text": [
            "intercept: [7.09085979]\n",
            "coeffficient: [[0.05442596]]\n"
          ]
        }
      ],
      "source": [
        "#Print the intercept and coefficients of the trained LinearRegression model.\n",
        "print(\"intercept:\",regressor.intercept_)\n",
        "print(\"coeffficient:\",regressor.coef_)\n"
      ]
    },
    {
      "cell_type": "code",
      "execution_count": 77,
      "metadata": {
        "colab": {
          "base_uri": "https://localhost:8080/",
          "height": 448
        },
        "execution": {
          "iopub.execute_input": "2023-08-31T08:02:56.638190Z",
          "iopub.status.busy": "2023-08-31T08:02:56.637149Z",
          "iopub.status.idle": "2023-08-31T08:02:56.879597Z",
          "shell.execute_reply": "2023-08-31T08:02:56.877817Z",
          "shell.execute_reply.started": "2023-08-31T08:02:56.638131Z"
        },
        "id": "d-lieXvWp_aC",
        "outputId": "50562de4-648a-4b34-f2a9-eaaf8e2fb120",
        "trusted": true
      },
      "outputs": [
        {
          "data": {
            "text/plain": [
              "[<matplotlib.lines.Line2D at 0x1ee172e5330>]"
            ]
          },
          "execution_count": 77,
          "metadata": {},
          "output_type": "execute_result"
        },
        {
          "data": {
            "image/png": "[encoded data removed]",
            "text/plain": [
              "<Figure size 640x480 with 1 Axes>"
            ]
          },
          "metadata": {},
          "output_type": "display_data"
        }
      ],
      "source": [
        "#Plot the scatter plot of training data points and overlay the regression line.\n",
        "plt.scatter(X_train,y_train)\n",
        "plt.plot(X_train,0.056*X_train+6.859,'black')"
      ]
    },
    {
      "cell_type": "code",
      "execution_count": 78,
      "metadata": {
        "execution": {
          "iopub.execute_input": "2023-08-31T08:02:56.882234Z",
          "iopub.status.busy": "2023-08-31T08:02:56.881728Z",
          "iopub.status.idle": "2023-08-31T08:02:56.888414Z",
          "shell.execute_reply": "2023-08-31T08:02:56.886434Z",
          "shell.execute_reply.started": "2023-08-31T08:02:56.882194Z"
        },
        "id": "uDCN0q0ep_aC",
        "trusted": true
      },
      "outputs": [],
      "source": [
        "#Predict the output (y-values) for the test set using the trained model.\n",
        "y_pred = regressor.predict(X_test)"
      ]
    },
    {
      "cell_type": "code",
      "execution_count": 79,
      "metadata": {
        "colab": {
          "base_uri": "https://localhost:8080/",
          "height": 452
        },
        "execution": {
          "iopub.execute_input": "2023-08-31T08:02:56.891360Z",
          "iopub.status.busy": "2023-08-31T08:02:56.890631Z",
          "iopub.status.idle": "2023-08-31T08:02:57.191287Z",
          "shell.execute_reply": "2023-08-31T08:02:57.189787Z",
          "shell.execute_reply.started": "2023-08-31T08:02:56.891316Z"
        },
        "id": "2SX9cXQup_aC",
        "outputId": "20cafb26-1796-45d2-8da3-f73ac526e417",
        "trusted": true
      },
      "outputs": [
        {
          "data": {
            "text/plain": [
              "[<matplotlib.lines.Line2D at 0x1ee17346620>]"
            ]
          },
          "execution_count": 79,
          "metadata": {},
          "output_type": "execute_result"
        },
        {
          "data": {
            "image/png": "[encoded data removed]",
            "text/plain": [
              "<Figure size 640x480 with 1 Axes>"
            ]
          },
          "metadata": {},
          "output_type": "display_data"
        }
      ],
      "source": [
        "#Plot the scatter plot of test data points along with the regression line.\n",
        "plt.scatter(X_test,y_test)\n",
        "plt.plot(X_test,0.056*X_test+6.859,'black')"
      ]
    },
    {
      "cell_type": "code",
      "execution_count": 80,
      "metadata": {
        "colab": {
          "base_uri": "https://localhost:8080/"
        },
        "execution": {
          "iopub.execute_input": "2023-08-31T08:02:57.194505Z",
          "iopub.status.busy": "2023-08-31T08:02:57.193339Z",
          "iopub.status.idle": "2023-08-31T08:02:57.204931Z",
          "shell.execute_reply": "2023-08-31T08:02:57.202546Z",
          "shell.execute_reply.started": "2023-08-31T08:02:57.194458Z"
        },
        "id": "udsY1OrUp_aD",
        "outputId": "601e977f-35c8-4e3e-bc6d-885b71437f0d",
        "trusted": true
      },
      "outputs": [
        {
          "name": "stdout",
          "output_type": "stream",
          "text": [
            "[[13.40427136]\n",
            " [14.66695368]\n",
            " [17.9161836 ]\n",
            " [ 7.12895796]\n",
            " [18.56385255]\n",
            " [16.47933821]\n",
            " [18.71080265]\n",
            " [17.84542985]\n",
            " [16.25619177]\n",
            " [ 7.55892306]\n",
            " [13.93220319]\n",
            " [19.19519371]\n",
            " [ 8.15760864]\n",
            " [21.31236362]\n",
            " [15.33639301]\n",
            " [20.0551239 ]\n",
            " [13.23555088]\n",
            " [22.40632546]\n",
            " [11.08572539]\n",
            " [19.08089919]\n",
            " [ 8.6474423 ]\n",
            " [18.49854139]\n",
            " [20.6320391 ]\n",
            " [16.16911023]\n",
            " [10.85713635]\n",
            " [20.61026871]\n",
            " [ 8.38619768]\n",
            " [22.36822728]\n",
            " [15.61396542]\n",
            " [15.23842628]\n",
            " [17.84542985]\n",
            " [17.02904042]\n",
            " [19.49997909]\n",
            " [10.68841587]\n",
            " [15.97861936]\n",
            " [ 8.54947557]\n",
            " [20.90416891]\n",
            " [12.55522636]\n",
            " [18.55840995]\n",
            " [21.39944516]]\n"
          ]
        }
      ],
      "source": [
        "print(y_pred)"
      ]
    },
    {
      "cell_type": "code",
      "execution_count": 81,
      "metadata": {
        "execution": {
          "iopub.execute_input": "2023-08-31T08:02:57.211664Z",
          "iopub.status.busy": "2023-08-31T08:02:57.210294Z",
          "iopub.status.idle": "2023-08-31T08:02:57.221236Z",
          "shell.execute_reply": "2023-08-31T08:02:57.218995Z",
          "shell.execute_reply.started": "2023-08-31T08:02:57.211597Z"
        },
        "id": "4zpA4gwap_aD",
        "trusted": true
      },
      "outputs": [],
      "source": [
        "#Import metrics functions: mean squared error, mean absolute error, and R-squared.\n",
        "from sklearn.metrics import mean_squared_error,mean_absolute_error,r2_score"
      ]
    },
    {
      "cell_type": "code",
      "execution_count": 82,
      "metadata": {
        "colab": {
          "base_uri": "https://localhost:8080/"
        },
        "execution": {
          "iopub.execute_input": "2023-08-31T08:02:57.224109Z",
          "iopub.status.busy": "2023-08-31T08:02:57.223551Z",
          "iopub.status.idle": "2023-08-31T08:02:57.242433Z",
          "shell.execute_reply": "2023-08-31T08:02:57.241152Z",
          "shell.execute_reply.started": "2023-08-31T08:02:57.224056Z"
        },
        "id": "CijZBM0Rp_aD",
        "outputId": "69707edc-424c-4440-bc83-ea3bb4077036",
        "trusted": true
      },
      "outputs": [
        {
          "data": {
            "text/plain": [
              "7.686000032232246"
            ]
          },
          "execution_count": 82,
          "metadata": {},
          "output_type": "execute_result"
        }
      ],
      "source": [
        "mean_squared_error(y_test,y_pred)"
      ]
    },
    {
      "cell_type": "code",
      "execution_count": 83,
      "metadata": {
        "colab": {
          "base_uri": "https://localhost:8080/"
        },
        "execution": {
          "iopub.execute_input": "2023-08-31T08:02:57.246673Z",
          "iopub.status.busy": "2023-08-31T08:02:57.244092Z",
          "iopub.status.idle": "2023-08-31T08:02:57.268467Z",
          "shell.execute_reply": "2023-08-31T08:02:57.266561Z",
          "shell.execute_reply.started": "2023-08-31T08:02:57.246602Z"
        },
        "id": "3MXRSmTmp_aD",
        "outputId": "b685d813-1786-4d41-c164-97af3fb26287",
        "trusted": true
      },
      "outputs": [
        {
          "data": {
            "text/plain": [
              "2.1731823652922753"
            ]
          },
          "execution_count": 83,
          "metadata": {},
          "output_type": "execute_result"
        }
      ],
      "source": [
        "mean_absolute_error(y_test,y_pred)"
      ]
    },
    {
      "cell_type": "code",
      "execution_count": 84,
      "metadata": {
        "colab": {
          "base_uri": "https://localhost:8080/"
        },
        "execution": {
          "iopub.execute_input": "2023-08-31T08:02:57.272546Z",
          "iopub.status.busy": "2023-08-31T08:02:57.271634Z",
          "iopub.status.idle": "2023-08-31T08:02:57.285227Z",
          "shell.execute_reply": "2023-08-31T08:02:57.282705Z",
          "shell.execute_reply.started": "2023-08-31T08:02:57.272461Z"
        },
        "id": "ngMuDrh1p_aD",
        "outputId": "45551530-2020-4c92-bbf1-6da86b0027c9",
        "trusted": true
      },
      "outputs": [
        {
          "data": {
            "text/plain": [
              "1.474171755696152"
            ]
          },
          "execution_count": 84,
          "metadata": {},
          "output_type": "execute_result"
        }
      ],
      "source": [
        "np.sqrt(mean_absolute_error(y_test,y_pred))"
      ]
    },
    {
      "cell_type": "code",
      "execution_count": 85,
      "metadata": {
        "colab": {
          "base_uri": "https://localhost:8080/"
        },
        "execution": {
          "iopub.execute_input": "2023-08-31T08:02:57.287238Z",
          "iopub.status.busy": "2023-08-31T08:02:57.286814Z",
          "iopub.status.idle": "2023-08-31T08:02:57.305066Z",
          "shell.execute_reply": "2023-08-31T08:02:57.303158Z",
          "shell.execute_reply.started": "2023-08-31T08:02:57.287203Z"
        },
        "id": "uQrNOVNvp_aE",
        "outputId": "61a3b45a-004b-49fd-bea1-fd1a94693f3e",
        "trusted": true
      },
      "outputs": [
        {
          "data": {
            "text/plain": [
              "0.752855328211451"
            ]
          },
          "execution_count": 85,
          "metadata": {},
          "output_type": "execute_result"
        }
      ],
      "source": [
        "r2_score(y_test,y_pred)"
      ]
    },
    {
      "cell_type": "markdown",
      "metadata": {
        "id": "s_dNiJhop_aE"
      },
      "source": []
    }
  ],
  "metadata": {
    "colab": {
      "provenance": []
    },
    "kernelspec": {
      "display_name": "Python 3",
      "language": "python",
      "name": "python3"
    },
    "language_info": {
      "codemirror_mode": {
        "name": "ipython",
        "version": 3
      },
      "file_extension": ".py",
      "mimetype": "text/x-python",
      "name": "python",
      "nbconvert_exporter": "python",
      "pygments_lexer": "ipython3",
      "version": "3.10.7"
    }
  },
  "nbformat": 4,
  "nbformat_minor": 0
}
